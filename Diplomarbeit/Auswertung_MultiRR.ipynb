{
 "cells": [
  {
   "cell_type": "markdown",
   "metadata": {},
   "source": [
    "# Auswertung I3W\n",
    "\n",
    "Die Ergebnisse des Trainings wurden hier abgelegt:"
   ]
  },
  {
   "cell_type": "code",
   "execution_count": 171,
   "metadata": {},
   "outputs": [],
   "source": [
    "path_ray_results = \"/home/thorsten/ray_results/TenaciousD/\"\n",
    "folder_results = \"PPO_MultiTenaciousDEnv-v0_0_2019-04-30_20-43-06g87_iwkr\""
   ]
  },
  {
   "cell_type": "markdown",
   "metadata": {},
   "source": [
    "## A) Ergebnisse der Baselines"
   ]
  },
  {
   "cell_type": "code",
   "execution_count": 172,
   "metadata": {},
   "outputs": [],
   "source": [
    "# mean reward\n",
    "mr_b1 = 0\n",
    "mr_b2 = 0\n",
    "mr_b3 = 0\n",
    "\n",
    "# metrik k1\n",
    "\n",
    "# metrik k2\n",
    "\n",
    "# metrik u"
   ]
  },
  {
   "cell_type": "markdown",
   "metadata": {},
   "source": [
    "## B) Auswertung des Trainings\n",
    "Auswertung der csv, die während des Trainings erstellt worden ist."
   ]
  },
  {
   "cell_type": "code",
   "execution_count": 173,
   "metadata": {},
   "outputs": [
    {
     "data": {
      "text/plain": [
       "['training_iteration',\n",
       " 'custom_metrics',\n",
       " 'time_this_iter_s',\n",
       " 'episode_len_mean',\n",
       " 'time_since_restore',\n",
       " 'episode_reward_mean',\n",
       " 'pid',\n",
       " 'iterations_since_restore',\n",
       " 'episode_reward_max',\n",
       " 'timestamp',\n",
       " 'date',\n",
       " 'timesteps_this_iter',\n",
       " 'experiment_id',\n",
       " 'done',\n",
       " 'hostname',\n",
       " 'episode_reward_min',\n",
       " 'policy_reward_mean',\n",
       " 'node_ip',\n",
       " 'config',\n",
       " 'num_metric_batches_dropped',\n",
       " 'timesteps_since_restore',\n",
       " 'timesteps_total',\n",
       " 'info',\n",
       " 'episodes_this_iter',\n",
       " 'time_total_s',\n",
       " 'episodes_total']"
      ]
     },
     "execution_count": 173,
     "metadata": {},
     "output_type": "execute_result"
    }
   ],
   "source": [
    "filename_trainingprogress = path_ray_results \\\n",
    "                            + folder_results \\\n",
    "                            + \"/progress.csv\"\n",
    "\n",
    "episodes_per_iteration = 20\n",
    "\n",
    "import numpy as np\n",
    "import pandas as pd\n",
    "\n",
    "%matplotlib inline\n",
    "import matplotlib\n",
    "import matplotlib.pyplot as plt\n",
    "import json\n",
    "\n",
    "data = pd.read_csv(filename_trainingprogress,sep=',',header=0)\n",
    "list(data)"
   ]
  },
  {
   "cell_type": "code",
   "execution_count": 174,
   "metadata": {},
   "outputs": [
    {
     "data": {
      "text/plain": [
       "Text(0.5, 1.0, 'Training PPO')"
      ]
     },
     "execution_count": 174,
     "metadata": {},
     "output_type": "execute_result"
    },
    {
     "data": {
      "image/png": "[encoded data removed]",
      "text/plain": [
       "<Figure size 432x288 with 1 Axes>"
      ]
     },
     "metadata": {
      "needs_background": "light"
     },
     "output_type": "display_data"
    }
   ],
   "source": [
    "episode_reward_min = data[['episode_reward_min']].values\n",
    "episode_reward_mean = data[['episode_reward_mean']].values\n",
    "episode_reward_max = data[['episode_reward_max']].values\n",
    "\n",
    "episodes_total = data[['episodes_total']].values/episodes_per_iteration\n",
    "training_iteration = data[['training_iteration']].values\n",
    "\n",
    "plt.plot(training_iteration,\n",
    "         episode_reward_min,\n",
    "         c='b')\n",
    "plt.plot(training_iteration,\n",
    "         episode_reward_mean,\n",
    "         c='r',\n",
    "         label='mean reward')\n",
    "plt.plot(training_iteration,\n",
    "         episode_reward_max,\n",
    "         c='b',\n",
    "         label='min/max reward')\n",
    "plt.fill_between(np.squeeze(training_iteration),\n",
    "                 np.squeeze(episode_reward_min),\n",
    "                 np.squeeze(episode_reward_max),\n",
    "                 color='lightblue')\n",
    "plt.legend(loc='lower right')\n",
    "plt.xlabel('iteration')\n",
    "plt.ylabel('reward')\n",
    "plt.grid()\n",
    "plt.title('Training PPO')\n",
    "#plt.xlim(0,100)"
   ]
  },
  {
   "cell_type": "markdown",
   "metadata": {},
   "source": [
    "## C) Test durchführen\n",
    "\n",
    "Um bei jedem rollout eine andere Startposition zu nutzen, muss im Ergebniss Ordner in *parms.json* der Parameter *starting_position_shuffle* auf *true* gesetzt werden.\n",
    "\n",
    "Ausführen des Visualisierungsskripts, dort kann auch die logdatei angepasst werden."
   ]
  },
  {
   "cell_type": "markdown",
   "metadata": {},
   "source": [
    "## D) Test auswerten\n",
    "\n",
    "Speicherort der in B) erzeugten log-Dateien:"
   ]
  },
  {
   "cell_type": "code",
   "execution_count": 175,
   "metadata": {},
   "outputs": [
    {
     "name": "stdout",
     "output_type": "stream",
     "text": [
      "Process STDOUT and STDERR is being redirected to /tmp/ray/session_2019-04-30_21-04-24_21293/logs.\n",
      "Waiting for redis server at 127.0.0.1:29166 to respond...\n",
      "Waiting for redis server at 127.0.0.1:20078 to respond...\n",
      "Starting the Plasma object store with 6.554658406 GB memory using /dev/shm.\n",
      "\n",
      "======================================================================\n",
      "View the web UI at http://localhost:8890/notebooks/ray_ui.ipynb?token=239c012e9e3613f60afecbf9a0568437a8d40fda6a7d0e6f\n",
      "======================================================================\n",
      "\n",
      "False\n",
      "Created LogSyncer for /home/thorsten/ray_results/PPO_MultiTenaciousDEnv-v0_2019-04-30_21-04-25z8cxfeuz -> None\n",
      "2019-04-30 21:04:25,304\tINFO ppo.py:130 -- In multi-agent mode, policies will be optimized sequentially by the multi-GPU optimizer. Consider setting simple_optimizer=True if this doesn't work for you.\n",
      "2019-04-30 21:04:25,304\tWARNING ppo.py:137 -- By default, observations will be normalized with MeanStdFilter\n",
      "Loading configuration... done.\n",
      "Success.\n",
      " Starting SUMO on port 50359\n",
      "Loading configuration... done.\n",
      "New Teamspirit:\n",
      "0.7062269262384764\n",
      "-0.41158657244159746\n",
      "[('left_lower', -4.152237179621082), ('right_lower', 13.526161514372408)]\n",
      "2019-04-30 21:04:35,171\tINFO policy_evaluator.py:262 -- Creating policy evaluation worker 0 on CPU (please ignore any CUDA init errors)\n",
      "/home/thorsten/.local/lib/python3.5/site-packages/tensorflow/python/ops/gradients_impl.py:108: UserWarning: Converting sparse IndexedSlices to a dense Tensor of unknown shape. This may consume a large amount of memory.\n",
      "  \"Converting sparse IndexedSlices to a dense Tensor of unknown shape. \"\n",
      "New Teamspirit:\n",
      "0.36714349096268495\n",
      "-0.05878300105721812\n",
      "[('left_lower', 18.854928375353772), ('right_lower', -5.727051019190391)]\n",
      "2019-04-30 21:04:42,187\tINFO multi_gpu_optimizer.py:74 -- LocalMultiGPUOptimizer devices ['/cpu:0']\n",
      "Policymap Function:\n",
      "<function policy_mapping_fn at 0x7fcbb7d36158>\n",
      "New Teamspirit:\n",
      "-0.06808985392859213\n",
      "0.011223558421311397\n",
      "[('left_lower', 10.301923170888358), ('right_lower', -0.3579550392347013)]\n",
      "{'rl_1': array([ 0.00502614,  0.01239825,  0.20078401, -0.90822626]), 'rl_0': array([0.01239825, 0.00502614, 1.10901027, 0.90822626])}\n",
      "{'rl_1': array([ 0.01554594,  0.01682275,  0.20033166, -0.90818911]), 'rl_0': array([0.01682275, 0.01554594, 1.10852076, 0.90818911])}\n",
      "{'rl_1': array([ 0.0276933 ,  0.02135754,  0.19952584, -0.90837346]), 'rl_0': array([0.02135754, 0.0276933 , 1.1078993 , 0.90837346])}\n",
      "{'rl_1': array([ 0.03789075,  0.02732355,  0.1984233 , -0.90868095]), 'rl_0': array([0.02732355, 0.03789075, 1.10710424, 0.90868095])}\n",
      "{'rl_1': array([ 0.05430878,  0.04008115,  0.19684302, -0.90909494]), 'rl_0': array([0.04008115, 0.05430878, 1.10593796, 0.90909494])}\n",
      "{'rl_1': array([ 0.06170026,  0.05026516,  0.19504767, -0.90942768]), 'rl_0': array([0.05026516, 0.06170026, 1.10447535, 0.90942768])}\n",
      "{'rl_1': array([ 0.07751841,  0.06517251, 20.72744908, 19.62487012]), 'rl_0': array([  0.06517251,   0.07751841,   1.10257896, -19.62487012])}\n",
      "{'rl_1': array([ 0.07393337,  0.05046105, 20.72744908, 19.62633843]), 'rl_0': array([  0.05046105,   0.07393337,   1.10111065, -19.62633843])}\n",
      "{'rl_1': array([ 0.06572034,  0.03969415, 20.72744908, 19.62749345]), 'rl_0': array([  0.03969415,   0.06572034,   1.09995563, -19.62749345])}\n",
      "{'rl_1': array([ 0.05852573,  0.02976479,  0.19245704, -0.90663249]), 'rl_0': array([0.02976479, 0.05852573, 1.09908953, 0.90663249])}\n",
      "{'rl_1': array([ 0.07170567,  0.04774818,  0.19037055, -0.90732961]), 'rl_0': array([0.04774818, 0.07170567, 1.09770016, 0.90732961])}\n",
      "{'rl_1': array([ 0.08265102,  0.05075576,  0.18796558, -0.90825769]), 'rl_0': array([0.05075576, 0.08265102, 1.09622327, 0.90825769])}\n",
      "{'rl_1': array([ 0.09976585,  0.05985408,  0.18506259, -0.90941904]), 'rl_0': array([0.05985408, 0.09976585, 1.09448164, 0.90941904])}\n",
      "{'rl_1': array([ 0.09832949,  0.07034379,  0.18220141, -0.91023337]), 'rl_0': array([0.07034379, 0.09832949, 1.09243478, 0.91023337])}\n",
      "{'rl_1': array([ 0.11022328,  0.07645687,  0.17899413, -0.91121591]), 'rl_0': array([0.07645687, 0.11022328, 1.09021004, 0.91121591])}\n",
      "{'rl_1': array([ 0.11609122,  0.08010859,  0.17561611, -0.91226293]), 'rl_0': array([0.08010859, 0.11609122, 1.08787904, 0.91226293])}\n",
      "{'rl_1': array([ 0.11363749,  0.09112545,  0.1723095 , -0.91291798]), 'rl_0': array([0.09112545, 0.11363749, 1.08522748, 0.91291798])}\n",
      "{'rl_1': array([ 0.12406046,  0.09403729,  0.16869959, -0.91379159]), 'rl_0': array([0.09403729, 0.12406046, 1.08249118, 0.91379159])}\n",
      "{'rl_1': array([ 0.12826512,  0.11383927,  0.16496733, -0.91421136]), 'rl_0': array([0.11383927, 0.12826512, 1.07917869, 0.91421136])}\n",
      "{'rl_1': array([ 0.13377311,  0.12484206,  0.16107481, -0.91447123]), 'rl_0': array([0.12484206, 0.13377311, 1.07554604, 0.91447123])}\n",
      "{'rl_1': array([ 0.14282081,  0.12625515,  0.15691901, -0.91495326]), 'rl_0': array([0.12625515, 0.14282081, 1.07187227, 0.91495326])}\n",
      "{'rl_1': array([ 0.1625096 ,  0.14605714,  0.15219032, -0.91543199]), 'rl_0': array([0.14605714, 0.1625096 , 1.06762231, 0.91543199])}\n",
      "{'rl_1': array([ 0.18186478,  0.15778918,  0.14689842, -0.91613254]), 'rl_0': array([0.15778918, 0.18186478, 1.06303097, 0.91613254])}\n",
      "{'rl_1': array([ 0.19642938,  0.15908816,  0.14118273, -0.9172191 ]), 'rl_0': array([0.15908816, 0.19642938, 1.05840182, 0.9172191 ])}\n",
      "{'rl_1': array([ 0.20697143,  0.16419645,  0.13516028, -0.91846376]), 'rl_0': array([0.16419645, 0.20697143, 1.05362404, 0.91846376])}\n",
      "{'rl_1': array([ 0.20564108,  0.17666133,  0.12917654, -0.91930701]), 'rl_0': array([0.17666133, 0.20564108, 1.04848356, 0.91930701])}\n",
      "{'rl_1': array([ 0.21275838,  0.19646331,  0.12298571, -0.91978117]), 'rl_0': array([0.19646331, 0.21275838, 1.04276687, 0.91978117])}\n",
      "{'rl_1': array([ 0.21652924,  0.19521258,  0.11668515, -0.92040144]), 'rl_0': array([0.19521258, 0.21652924, 1.03708659, 0.92040144])}\n",
      "{'rl_1': array([ 0.22706678,  0.20194043,  0.11007797, -0.92113256]), 'rl_0': array([0.20194043, 0.22706678, 1.03121053, 0.92113256])}\n",
      "{'rl_1': array([ 0.22750911,  0.21001559,  0.10345792, -0.92164159]), 'rl_0': array([0.21001559, 0.22750911, 1.02509951, 0.92164159])}\n",
      "{'rl_1': array([ 0.24248317,  0.22174776,  0.09640215, -0.92224495]), 'rl_0': array([0.22174776, 0.24248317, 1.0186471 , 0.92224495])}\n",
      "{'rl_1': array([ 0.2470287 ,  0.23191665,  0.08921412, -0.92268468]), 'rl_0': array([0.23191665, 0.2470287 , 1.01189879, 0.92268468])}\n",
      "{'rl_1': array([ 0.25221516,  0.25171863,  0.08187517, -0.92269913]), 'rl_0': array([0.25171863, 0.25221516, 1.0045743 , 0.92269913])}\n",
      "{'rl_1': array([ 0.27201716,  0.26007312,  0.07396002, -0.92304667]), 'rl_0': array([0.26007312, 0.27201716, 0.9970067 , 0.92304667])}\n",
      "{'rl_1': array([ 0.28168811,  0.27399995,  0.06576347, -0.92327038]), 'rl_0': array([0.27399995, 0.28168811, 0.98903386, 0.92327038])}\n",
      "{'rl_1': array([ 0.28006911,  0.27958977,  0.05761403, -0.92328433]), 'rl_0': array([0.27958977, 0.28006911, 0.98089836, 0.92328433])}\n",
      "{'rl_1': array([ 0.28929843,  0.29223185,  0.04919604, -0.92319897]), 'rl_0': array([0.29223185, 0.28929843, 0.97239501, 0.92319897])}\n",
      "{'rl_1': array([ 0.29551791,  0.3051174 ,  0.04059707, -0.92291965]), 'rl_0': array([0.3051174 , 0.29551791, 0.96351672, 0.92291965])}\n",
      "{'rl_1': array([ 0.31376313,  0.30282504,  0.0314672 , -0.92323792]), 'rl_0': array([0.30282504, 0.31376313, 0.95470513, 0.92323792])}\n",
      "{'rl_1': array([ 0.32963946,  0.31426394,  0.02187536, -0.92368532]), 'rl_0': array([0.31426394, 0.32963946, 0.94556069, 0.92368532])}\n",
      "{'rl_1': array([ 0.33021702,  0.32174532,  0.01226672, -0.92393183]), 'rl_0': array([0.32174532, 0.33021702, 0.93619855, 0.92393183])}\n",
      "{'rl_1': array([ 0.32813218,  0.32831555,  0.00271874, -0.92392649]), 'rl_0': array([0.32831555, 0.32813218, 0.92664524, 0.92392649])}\n",
      "{'rl_1': array([ 0.33725378,  0.33996463, -0.12368049, -1.04043345]), 'rl_0': array([0.33996463, 0.33725378, 0.91675296, 1.04043345])}\n",
      "{'rl_1': array([ 0.35079254,  0.35424773, -0.13388784, -1.04033291]), 'rl_0': array([0.35424773, 0.35079254, 0.90644507, 1.04033291])}\n",
      "{'rl_1': array([ 0.36753956,  0.36988094, -0.14458249, -1.04026479]), 'rl_0': array([0.36988094, 0.36753956, 0.89568229, 1.04026479])}\n",
      "{'rl_1': array([ 0.37020038,  0.38373307, -0.15535457, -1.03987101]), 'rl_0': array([0.38373307, 0.37020038, 0.88451644, 1.03987101])}\n"
     ]
    },
    {
     "name": "stdout",
     "output_type": "stream",
     "text": [
      "{'rl_1': array([ 0.37753974,  0.39122157, -0.16634021, -1.0394729 ]), 'rl_0': array([0.39122157, 0.37753974, 0.87313269, 1.0394729 ])}\n",
      "{'rl_1': array([ 0.38312933,  0.40134577, -0.17748849, -1.03894284]), 'rl_0': array([0.40134577, 0.38312933, 0.86145435, 1.03894284])}\n",
      "{'rl_1': array([ 0.38153205,  0.41964218, -0.1885903 , -1.03783391]), 'rl_0': array([0.41964218, 0.38153205, 0.84924361, 1.03783391])}\n",
      "{'rl_1': array([ 0.38094582,  0.42490796, -0.19967504, -1.0365547 ]), 'rl_0': array([0.42490796, 0.38094582, 0.83687966, 1.0365547 ])}\n",
      "{'rl_1': array([ 0.38479239,  0.43979539, -0.21087172, -1.03495423]), 'rl_0': array([0.43979539, 0.38479239, 0.82408251, 1.03495423])}\n",
      "{'rl_1': array([ 0.39819982,  0.44996459, -0.12527133, -0.93626078]), 'rl_0': array([0.44996459, 0.39819982, 0.81098945, 0.93626078])}\n",
      "{'rl_1': array([ 0.41097307,  0.46017932, -0.13722981, -0.93482898]), 'rl_0': array([0.46017932, 0.41097307, 0.79759917, 0.93482898])}\n",
      "{'rl_1': array([ 0.43077506,  0.46886031, -0.14976448, -0.93372077]), 'rl_0': array([0.46886031, 0.43077506, 0.78395629, 0.93372077])}\n",
      "{'rl_1': array([ 0.4416281 ,  0.4886623 , -0.16261496, -0.93235218]), 'rl_0': array([0.4886623 , 0.4416281 , 0.76973721, 0.93235218])}\n",
      "Traceback (most recent call last):\n",
      "  File \"/home/thorsten/flow_2/flow/flow/visualize/visualizer_rllib_log_MultiI3W.py\", line 408, in <module>\n",
      "    visualizer_rllib(args)\n",
      "  File \"/home/thorsten/flow_2/flow/flow/visualize/visualizer_rllib_log_MultiI3W.py\", line 258, in visualizer_rllib\n",
      "    state, reward, done, _ = env.step(action)\n",
      "  File \"/home/thorsten/flow_2/flow/flow/multiagent_envs/multiagent_tenaciousD_env.py\", line 271, in step\n",
      "    self.k.simulation.simulation_step()\n",
      "  File \"/home/thorsten/flow_2/flow/flow/core/kernel/simulation/traci.py\", line 56, in simulation_step\n",
      "    self.kernel_api.simulationStep()\n",
      "  File \"/home/thorsten/anaconda3/envs/flow_2/lib/python3.5/site-packages/traci/connection.py\", line 275, in simulationStep\n",
      "    result = self._sendExact()\n",
      "  File \"/home/thorsten/anaconda3/envs/flow_2/lib/python3.5/site-packages/traci/connection.py\", line 97, in _sendExact\n",
      "    raise FatalTraCIError(\"connection closed by SUMO\")\n",
      "traci.exceptions.FatalTraCIError: connection closed by SUMO\n",
      "Closing connection to TraCI and stopping simulation.\n",
      "Note, this may print an error message when it closes.\n"
     ]
    }
   ],
   "source": [
    "! python /home/thorsten/flow_2/flow/flow/visualize/visualizer_rllib_log_MultiI3W.py /home/thorsten/ray_results/TenaciousD/PPO_MultiTenaciousDEnv-v0_0_2019-04-30_20-43-06g87_iwkr 20 --num-rollouts 10"
   ]
  },
  {
   "cell_type": "code",
   "execution_count": 109,
   "metadata": {},
   "outputs": [
    {
     "name": "stdout",
     "output_type": "stream",
     "text": [
      "Process STDOUT and STDERR is being redirected to /tmp/ray/session_2019-04-30_19-54-02_18919/logs.\n",
      "Waiting for redis server at 127.0.0.1:43377 to respond...\n",
      "Waiting for redis server at 127.0.0.1:50710 to respond...\n",
      "Starting the Plasma object store with 6.554658406 GB memory using /dev/shm.\n",
      "\n",
      "======================================================================\n",
      "View the web UI at http://localhost:8888/notebooks/ray_ui.ipynb?token=c041f1b38a646a609f76e1fc85f6005001f7fe9c8a68ccad\n",
      "======================================================================\n",
      "\n",
      "Traceback (most recent call last):\n",
      "  File \"/home/thorsten/flow_2/flow/flow/visualize/visualizer_rllib.py\", line 346, in <module>\n",
      "    visualizer_rllib(args)\n",
      "  File \"/home/thorsten/flow_2/flow/flow/visualize/visualizer_rllib.py\", line 50, in visualizer_rllib\n",
      "    config = get_rllib_config(result_dir)\n",
      "  File \"/home/thorsten/flow_2/flow/flow/utils/rllib.py\", line 149, in get_rllib_config\n",
      "    \"Could not find params.json in either the checkpoint dir or \"\n",
      "ValueError: Could not find params.json in either the checkpoint dir or its parent directory.\n"
     ]
    }
   ],
   "source": [
    "! python /home/thorsten/flow_2/flow/flow/visualize/visualizer_rllib.py /home/thorsten/ray_results/PPO_MultiTenaciousDEnv-v0_0_2019-04-30_19-17-36i85ubhgx 60 --num-rollouts 10"
   ]
  },
  {
   "cell_type": "code",
   "execution_count": 165,
   "metadata": {},
   "outputs": [],
   "source": [
    "# default:\n",
    "folder_logs = path_ray_results + folder_results + \"/results_run_20/\"\n",
    "\n",
    "# anderer Ort:\n",
    "#folder_logs = hier/und/dort/"
   ]
  },
  {
   "cell_type": "markdown",
   "metadata": {},
   "source": [
    "### D1) Laden und lesen der log-Dateien"
   ]
  },
  {
   "cell_type": "code",
   "execution_count": 166,
   "metadata": {},
   "outputs": [],
   "source": [
    "import glob\n",
    "filenames_log = glob.glob( folder_logs + \"/log_*.csv\")\n",
    "\n",
    "csvList = []\n",
    "\n",
    "for file_ in filenames_log:\n",
    "    df = pd.read_csv(file_,index_col=None, header=0)\n",
    "    csvList.append(df)\n",
    "\n",
    "actions_1 = []\n",
    "actions_2 = []\n",
    "veh_speeds_1 = []\n",
    "veh_speeds_2 = []\n",
    "veh_poss_1 = []\n",
    "veh_poss_2 = []\n",
    "curr_rewards_1 = []\n",
    "curr_rewards_2 = []\n",
    "times = []\n",
    "\n",
    "for csv in csvList:\n",
    "    actions_1.append(csv[['action_acc_1']].values)\n",
    "    actions_2.append(csv[['action_acc_2']].values)\n",
    "    veh_speeds_1.append(csv[['veh_speed_1']].values)\n",
    "    veh_speeds_2.append(csv[['veh_speed_2']].values)\n",
    "    veh_poss_1.append(csv[['veh_pos_1']].values)\n",
    "    veh_poss_2.append(csv[['veh_pos_2']].values)\n",
    "    curr_rewards_1.append(csv[['curr_reward_1']].values)\n",
    "    curr_rewards_2.append(csv[['curr_reward_2']].values)\n",
    "    times.append(np.arange(csv[['action_acc_1']].values.size)/10)"
   ]
  },
  {
   "cell_type": "markdown",
   "metadata": {},
   "source": [
    "### D2) Vergleich der Action beider Fahrzeuge"
   ]
  },
  {
   "cell_type": "code",
   "execution_count": 167,
   "metadata": {
    "scrolled": true
   },
   "outputs": [
    {
     "data": {
      "text/plain": [
       "Text(0.5, 1.0, 'Action')"
      ]
     },
     "execution_count": 167,
     "metadata": {},
     "output_type": "execute_result"
    },
    {
     "data": {
      "image/png": "[encoded data removed]",
      "text/plain": [
       "<Figure size 432x288 with 1 Axes>"
      ]
     },
     "metadata": {
      "needs_background": "light"
     },
     "output_type": "display_data"
    }
   ],
   "source": [
    "linewidth_para = 2\n",
    "\n",
    "N_RA = 10\n",
    "pltAlpha = 0.15\n",
    "\n",
    "# print action\n",
    "for time, action_1 in zip(times,actions_1):\n",
    "    plt.plot(time[:-1],\n",
    "             action_1[:-1],\n",
    "             c='b',\n",
    "             alpha=pltAlpha)\n",
    "for time, action_2 in zip(times,actions_2):\n",
    "    plt.plot(time[:-1],\n",
    "             action_2[:-1],\n",
    "             linewidth=linewidth_para,\n",
    "             c='r',\n",
    "             alpha=pltAlpha)\n",
    "\n",
    "# print action with rolling avg\n",
    "for time, action_1 in zip(times,actions_1):\n",
    "    action_1_RA = np.convolve(action_1[:,0],np.ones((N_RA,))/N_RA,mode='valid')\n",
    "    plt.plot(time[N_RA//2:-N_RA//2],\n",
    "             action_1_RA[:-1],\n",
    "             c='b')\n",
    "for time, action_2 in zip(times,actions_2):\n",
    "    action_2_RA = np.convolve(action_2[:,0],np.ones((N_RA,))/N_RA,mode='valid')\n",
    "    plt.plot(time[N_RA//2:-N_RA//2],\n",
    "             action_2_RA[:-1],\n",
    "             c='r')    \n",
    "    \n",
    "plt.xlabel('time [s]')\n",
    "plt.ylabel('action [m/s^2]')\n",
    "plt.grid()\n",
    "plt.ylim(-3.5,3.5)\n",
    "#plt.xlim(0,15)\n",
    "plt.title('Action')"
   ]
  },
  {
   "cell_type": "markdown",
   "metadata": {},
   "source": [
    "### D3) Vergleich der Geschwindigkeit beider Fahrzeuge"
   ]
  },
  {
   "cell_type": "code",
   "execution_count": 168,
   "metadata": {},
   "outputs": [
    {
     "data": {
      "text/plain": [
       "(-5, 40)"
      ]
     },
     "execution_count": 168,
     "metadata": {},
     "output_type": "execute_result"
    },
    {
     "data": {
      "image/png": "[encoded data removed]",
      "text/plain": [
       "<Figure size 432x288 with 1 Axes>"
      ]
     },
     "metadata": {
      "needs_background": "light"
     },
     "output_type": "display_data"
    }
   ],
   "source": [
    "for time, veh_speed_1 in zip(times,veh_speeds_1):\n",
    "    plt.plot(time[:-1],\n",
    "             veh_speed_1[:-1],\n",
    "             c='b')\n",
    "for time, veh_speed_2 in zip(times,veh_speeds_2):\n",
    "    plt.plot(time[:-1],\n",
    "             veh_speed_2[:-1],\n",
    "             c='r')\n",
    "plt.xlabel('time [s]')\n",
    "plt.ylabel('speed [m/s]')\n",
    "plt.grid()\n",
    "plt.title('Vergleich der Geschwindigkeit beider Fahrzeuge')\n",
    "plt.ylim(-5,40)\n",
    "#plt.xlim(0,15)"
   ]
  },
  {
   "cell_type": "markdown",
   "metadata": {},
   "source": [
    "### D4) Position beider Fahrzeuge"
   ]
  },
  {
   "cell_type": "code",
   "execution_count": 169,
   "metadata": {},
   "outputs": [
    {
     "data": {
      "text/plain": [
       "(0, 220)"
      ]
     },
     "execution_count": 169,
     "metadata": {},
     "output_type": "execute_result"
    },
    {
     "data": {
      "image/png": "[encoded data removed]",
      "text/plain": [
       "<Figure size 432x288 with 1 Axes>"
      ]
     },
     "metadata": {
      "needs_background": "light"
     },
     "output_type": "display_data"
    }
   ],
   "source": [
    "for time, veh_pos_1 in zip(times,veh_poss_1):\n",
    "    plt.plot(time[:-1],\n",
    "             veh_pos_1[:-1],\n",
    "             c='b')\n",
    "for time, veh_pos_2 in zip(times,veh_poss_2):\n",
    "    plt.plot(time[:-1],\n",
    "             veh_pos_2[:-1],\n",
    "             c='r')\n",
    "#plt.ylim(0,130)\n",
    "plt.xlabel('time [s]')\n",
    "plt.ylabel('pos [m]')\n",
    "plt.grid()\n",
    "plt.title('Vergleich der Position beider Fahrzeuge')\n",
    "plt.ylim(0,220)\n",
    "#plt.xlim(0,15)"
   ]
  },
  {
   "cell_type": "markdown",
   "metadata": {},
   "source": [
    "### D5) Reward"
   ]
  },
  {
   "cell_type": "code",
   "execution_count": 170,
   "metadata": {},
   "outputs": [
    {
     "data": {
      "text/plain": [
       "Text(0.5, 1.0, 'Reward')"
      ]
     },
     "execution_count": 170,
     "metadata": {},
     "output_type": "execute_result"
    },
    {
     "data": {
      "image/png": "[encoded data removed]",
      "text/plain": [
       "<Figure size 432x288 with 1 Axes>"
      ]
     },
     "metadata": {
      "needs_background": "light"
     },
     "output_type": "display_data"
    }
   ],
   "source": [
    "for time, curr_reward in zip(times,curr_rewards_1):\n",
    "    plt.plot(time[:-1],\n",
    "             curr_reward[:-1],\n",
    "             c='b')\n",
    "for time, curr_reward in zip(times,curr_rewards_2):\n",
    "    plt.plot(time[:-1],\n",
    "             curr_reward[:-1],\n",
    "             c='r')\n",
    "plt.xlabel('time [s]')\n",
    "plt.ylabel('curr_reward')\n",
    "#plt.ylim(-1,6)\n",
    "#plt.xlim(0,15)\n",
    "plt.grid()\n",
    "plt.title('Reward')"
   ]
  },
  {
   "cell_type": "markdown",
   "metadata": {},
   "source": [
    "### D6) Kooperation und Konkurrenz"
   ]
  },
  {
   "cell_type": "code",
   "execution_count": null,
   "metadata": {},
   "outputs": [],
   "source": [
    "n_episodes = 0\n",
    "n_nr2first = 0\n",
    "\n",
    "for veh_pos_1, veh_pos_2 in zip(veh_poss_1,veh_poss_2):\n",
    "    n_episodes += 1\n",
    "    if veh_pos_2[-2] > veh_pos_1[-2]:\n",
    "        n_nr2first += 1\n",
    "print(\"k1 all:\")\n",
    "print(n_nr2first/n_episodes)"
   ]
  },
  {
   "cell_type": "code",
   "execution_count": null,
   "metadata": {},
   "outputs": [],
   "source": [
    "n_episodes = 0\n",
    "n_nr2first = 0\n",
    "n_notFarEnough = 0\n",
    "n_successfull = 0\n",
    "\n",
    "for veh_pos_1, veh_pos_2 in zip(veh_poss_1,veh_poss_2):\n",
    "    n_episodes += 1\n",
    "    if veh_pos_2[-2] > 46.2+13 or veh_pos_1[-2] > 46.2+13:\n",
    "        n_successfull += 1\n",
    "        if veh_pos_2[-2] > veh_pos_1[-2]:\n",
    "            n_nr2first += 1\n",
    "    else:\n",
    "        n_notFarEnough += 1\n",
    "    \n",
    "print(\"k1 ein Fzg muss KP verlassen haben:\")\n",
    "print(n_nr2first/n_successfull)\n",
    "\n",
    "print(\"Number notFarEnough:\")\n",
    "print(n_notFarEnough)"
   ]
  },
  {
   "cell_type": "code",
   "execution_count": null,
   "metadata": {},
   "outputs": [],
   "source": [
    "SMALL_SIZE = 15\n",
    "MEDIUM_SIZE = 20\n",
    "BIGGER_SIZE = 25\n",
    "\n",
    "plt.rc('font', size=SMALL_SIZE)          # controls default text sizes\n",
    "plt.rc('axes', titlesize=BIGGER_SIZE)     # fontsize of the axes title\n",
    "plt.rc('axes', labelsize=SMALL_SIZE)    # fontsize of the x and y labels\n",
    "plt.rc('xtick', labelsize=SMALL_SIZE)    # fontsize of the tick labels\n",
    "plt.rc('ytick', labelsize=SMALL_SIZE)    # fontsize of the tick labels\n",
    "plt.rc('legend', fontsize=SMALL_SIZE)    # legend fontsize\n",
    "plt.rc('figure', titlesize=BIGGER_SIZE)  # fontsize of the figure title\n",
    "\n",
    "N_RA = 10\n",
    "pltAlpha = 0.25\n",
    "linewidth_para = 4.0\n",
    "linewidth_para_alpha = 2.0\n",
    "\n",
    "action_1 = actions_1[0]\n",
    "action_2 = actions_2[0]\n",
    "time = times[0]\n",
    "\n",
    "action_1_RA = np.convolve(action_1[:,0],np.ones((N_RA,))/N_RA,mode='valid')\n",
    "action_2_RA = np.convolve(action_2[:,0],np.ones((N_RA,))/N_RA,mode='valid')\n",
    "\n",
    "len(action_1)\n",
    "\n",
    "plt.figure(figsize=(1.910*10/2*1.2,0.992*10/2*0.8),dpi=100)\n",
    "for i in range(len(action_1)-2): \n",
    "    plt.plot(time[:i],\n",
    "            action_1[:i],\n",
    "            linewidth=linewidth_para_alpha,\n",
    "            alpha=pltAlpha,\n",
    "            c='b')\n",
    "    plt.plot(time[:i],\n",
    "            action_2[:i],\n",
    "            linewidth=linewidth_para_alpha,\n",
    "            alpha=pltAlpha,\n",
    "            c='r')\n",
    "    if i > N_RA//2:\n",
    "        if i < len(action_1)-3-N_RA//2:   \n",
    "            plt.plot(time[N_RA//2:i],\n",
    "                     action_1_RA[:i-N_RA//2],\n",
    "                     linewidth=linewidth_para,\n",
    "                     c='b')\n",
    "            plt.plot(time[N_RA//2:i],\n",
    "                     action_2_RA[:i-N_RA//2],\n",
    "                     linewidth=linewidth_para,\n",
    "                     c='r')\n",
    "        else:\n",
    "            plt.plot(time[N_RA//2:-N_RA//2],\n",
    "                     action_1_RA[:-1],\n",
    "                     linewidth=linewidth_para,\n",
    "                     c='b')\n",
    "            plt.plot(time[N_RA//2:-N_RA//2],\n",
    "                     action_2_RA[:-1],\n",
    "                     linewidth=linewidth_para,\n",
    "                     c='r')\n",
    "    plt.grid()\n",
    "    plt.ylim(-0.5,3.5)\n",
    "    #plt.xlim((-80+i)/10,(20+i)/10)\n",
    "    plt.xlim(-1,len(action_1)/10+1)\n",
    "    plt.xlabel('time [s]')\n",
    "    plt.ylabel('action [m/s^2]')\n",
    "    plt.title('Action')\n",
    "    plt.tight_layout()\n",
    "    plt.savefig(\"action_\"+str(i+1)+\".png\",dpi=100)\n",
    "    plt.clf()"
   ]
  }
 ],
 "metadata": {
  "kernelspec": {
   "display_name": "Python (flow_2)",
   "language": "python",
   "name": "flow_2"
  },
  "language_info": {
   "codemirror_mode": {
    "name": "ipython",
    "version": 3
   },
   "file_extension": ".py",
   "mimetype": "text/x-python",
   "name": "python",
   "nbconvert_exporter": "python",
   "pygments_lexer": "ipython3",
   "version": "3.5.2"
  }
 },
 "nbformat": 4,
 "nbformat_minor": 2
}
