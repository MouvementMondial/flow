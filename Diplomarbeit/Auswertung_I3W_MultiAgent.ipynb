{
 "cells": [
  {
   "cell_type": "markdown",
   "metadata": {},
   "source": [
    "# Auswertung I3W\n",
    "\n",
    "Die Ergebnisse des Trainings wurden hier abgelegt:"
   ]
  },
  {
   "cell_type": "code",
   "execution_count": 18,
   "metadata": {},
   "outputs": [],
   "source": [
    "path_ray_results = \"/home/thorsten/ray_results/IntersectionExample/\"\n",
    "folder_results = \"PPO_MultiAgentIntersectionEnv_sharedPolicy_TeamSpirit-v0_0_2019-04-09_13-11-02cdaml41i\""
   ]
  },
  {
   "cell_type": "markdown",
   "metadata": {},
   "source": [
    "## A) Ergebnisse der Baselines"
   ]
  },
  {
   "cell_type": "code",
   "execution_count": 19,
   "metadata": {},
   "outputs": [],
   "source": [
    "# mean reward\n",
    "mr_b1 = 0\n",
    "mr_b2 = 0\n",
    "mr_b3 = 0\n",
    "\n",
    "# metrik k1\n",
    "\n",
    "# metrik k2\n",
    "\n",
    "# metrik u"
   ]
  },
  {
   "cell_type": "markdown",
   "metadata": {},
   "source": [
    "## B) Auswertung des Trainings\n",
    "Auswertung der csv, die während des Trainings erstellt worden ist."
   ]
  },
  {
   "cell_type": "code",
   "execution_count": 20,
   "metadata": {},
   "outputs": [
    {
     "data": {
      "text/plain": [
       "['time_total_s',\n",
       " 'experiment_id',\n",
       " 'episodes_total',\n",
       " 'num_metric_batches_dropped',\n",
       " 'node_ip',\n",
       " 'time_since_restore',\n",
       " 'episode_len_mean',\n",
       " 'timesteps_this_iter',\n",
       " 'info',\n",
       " 'config',\n",
       " 'pid',\n",
       " 'hostname',\n",
       " 'timesteps_total',\n",
       " 'episode_reward_min',\n",
       " 'training_iteration',\n",
       " 'iterations_since_restore',\n",
       " 'time_this_iter_s',\n",
       " 'date',\n",
       " 'done',\n",
       " 'episodes_this_iter',\n",
       " 'episode_reward_max',\n",
       " 'timesteps_since_restore',\n",
       " 'custom_metrics',\n",
       " 'policy_reward_mean',\n",
       " 'episode_reward_mean',\n",
       " 'timestamp']"
      ]
     },
     "execution_count": 20,
     "metadata": {},
     "output_type": "execute_result"
    }
   ],
   "source": [
    "filename_trainingprogress = path_ray_results \\\n",
    "                            + folder_results \\\n",
    "                            + \"/progress.csv\"\n",
    "\n",
    "episodes_per_iteration = 20\n",
    "\n",
    "import numpy as np\n",
    "import pandas as pd\n",
    "\n",
    "%matplotlib inline\n",
    "import matplotlib\n",
    "import matplotlib.pyplot as plt\n",
    "import json\n",
    "\n",
    "data = pd.read_csv(filename_trainingprogress,sep=',',header=0)\n",
    "list(data)"
   ]
  },
  {
   "cell_type": "code",
   "execution_count": 21,
   "metadata": {},
   "outputs": [
    {
     "data": {
      "text/plain": [
       "Text(0.5, 1.0, 'Training PPO')"
      ]
     },
     "execution_count": 21,
     "metadata": {},
     "output_type": "execute_result"
    },
    {
     "data": {
      "image/png": "[encoded data removed]",
      "text/plain": [
       "<Figure size 432x288 with 1 Axes>"
      ]
     },
     "metadata": {
      "needs_background": "light"
     },
     "output_type": "display_data"
    }
   ],
   "source": [
    "episode_reward_min = data[['episode_reward_min']].values\n",
    "episode_reward_mean = data[['episode_reward_mean']].values\n",
    "episode_reward_max = data[['episode_reward_max']].values\n",
    "\n",
    "episodes_total = data[['episodes_total']].values/episodes_per_iteration\n",
    "training_iteration = data[['training_iteration']].values\n",
    "\n",
    "plt.plot(training_iteration,\n",
    "         episode_reward_min,\n",
    "         c='b')\n",
    "plt.plot(training_iteration,\n",
    "         episode_reward_mean,\n",
    "         c='r',\n",
    "         label='mean reward')\n",
    "plt.plot(training_iteration,\n",
    "         episode_reward_max,\n",
    "         c='b',\n",
    "         label='min/max reward')\n",
    "plt.fill_between(np.squeeze(training_iteration),\n",
    "                 np.squeeze(episode_reward_min),\n",
    "                 np.squeeze(episode_reward_max),\n",
    "                 color='lightblue')\n",
    "plt.legend(loc='lower right')\n",
    "plt.xlabel('iteration')\n",
    "plt.ylabel('reward')\n",
    "plt.grid()\n",
    "plt.title('Training PPO')\n",
    "#plt.ylim(-200,450)"
   ]
  },
  {
   "cell_type": "code",
   "execution_count": 22,
   "metadata": {},
   "outputs": [
    {
     "ename": "KeyError",
     "evalue": "'rl_1'",
     "output_type": "error",
     "traceback": [
      "\u001b[0;31m---------------------------------------------------------------------------\u001b[0m",
      "\u001b[0;31mKeyError\u001b[0m                                  Traceback (most recent call last)",
      "\u001b[0;32m<ipython-input-22-ee01a5fd72e8>\u001b[0m in \u001b[0;36m<module>\u001b[0;34m()\u001b[0m\n\u001b[1;32m     10\u001b[0m     \u001b[0mprm_dict\u001b[0m \u001b[0;34m=\u001b[0m \u001b[0mjson\u001b[0m\u001b[0;34m.\u001b[0m\u001b[0mloads\u001b[0m\u001b[0;34m(\u001b[0m\u001b[0mprm_str\u001b[0m\u001b[0;34m)\u001b[0m\u001b[0;34m\u001b[0m\u001b[0m\n\u001b[1;32m     11\u001b[0m     \u001b[0mprm_rl_0\u001b[0m \u001b[0;34m=\u001b[0m \u001b[0mprm_dict\u001b[0m\u001b[0;34m[\u001b[0m\u001b[0;34m\"rl_0\"\u001b[0m\u001b[0;34m]\u001b[0m\u001b[0;34m\u001b[0m\u001b[0m\n\u001b[0;32m---> 12\u001b[0;31m     \u001b[0mprm_rl_1\u001b[0m \u001b[0;34m=\u001b[0m \u001b[0mprm_dict\u001b[0m\u001b[0;34m[\u001b[0m\u001b[0;34m\"rl_1\"\u001b[0m\u001b[0;34m]\u001b[0m\u001b[0;34m\u001b[0m\u001b[0m\n\u001b[0m\u001b[1;32m     13\u001b[0m     \u001b[0mrl_0_prm\u001b[0m\u001b[0;34m.\u001b[0m\u001b[0mappend\u001b[0m\u001b[0;34m(\u001b[0m\u001b[0mprm_rl_0\u001b[0m\u001b[0;34m)\u001b[0m\u001b[0;34m\u001b[0m\u001b[0m\n\u001b[1;32m     14\u001b[0m     \u001b[0mrl_1_prm\u001b[0m\u001b[0;34m.\u001b[0m\u001b[0mappend\u001b[0m\u001b[0;34m(\u001b[0m\u001b[0mprm_rl_1\u001b[0m\u001b[0;34m)\u001b[0m\u001b[0;34m\u001b[0m\u001b[0m\n",
      "\u001b[0;31mKeyError\u001b[0m: 'rl_1'"
     ]
    }
   ],
   "source": [
    "policy_reward_mean = data[['policy_reward_mean']].values\n",
    "\n",
    "rl_0_prm = []\n",
    "rl_1_prm = []\n",
    "\n",
    "prm_list = policy_reward_mean.tolist()\n",
    "for prm in prm_list:\n",
    "    prm_str = prm[0]\n",
    "    prm_str = prm_str.replace(\"'\",'\"')\n",
    "    prm_dict = json.loads(prm_str)\n",
    "    prm_rl_0 = prm_dict[\"rl_0\"]\n",
    "    prm_rl_1 = prm_dict[\"rl_1\"]\n",
    "    rl_0_prm.append(prm_rl_0)\n",
    "    rl_1_prm.append(prm_rl_1)\n",
    "    \n",
    "episodes_total = data[['episodes_total']].values/episodes_per_iteration\n",
    "\n",
    "plt.plot(training_iteration,\n",
    "         rl_0_prm,\n",
    "         c='b',\n",
    "         label='mean reward rl_0')\n",
    "plt.plot(training_iteration,\n",
    "         rl_1_prm,\n",
    "         c='r',\n",
    "         label='mean reward rl_1')\n",
    "\n",
    "plt.legend(loc='lower right')\n",
    "plt.xlabel('iteration')\n",
    "plt.ylabel('reward')\n",
    "plt.grid()\n",
    "plt.title('Training PPO')\n",
    "#plt.ylim(0,200)"
   ]
  },
  {
   "cell_type": "markdown",
   "metadata": {},
   "source": [
    "## C) Test durchführen\n",
    "\n",
    "Um bei jedem rollout eine andere Startposition zu nutzen, muss im Ergebniss Ordner in *parms.json* der Parameter *starting_position_shuffle* auf *true* gesetzt werden.\n",
    "\n",
    "Ausführen des Visualisierungsskripts, dort kann auch die logdatei angepasst werden."
   ]
  },
  {
   "cell_type": "code",
   "execution_count": null,
   "metadata": {},
   "outputs": [],
   "source": [
    "! python /home/thorsten/flow_2/flow/flow/visualize/visualizer_rllib_log_MultiI3W.py /home/thorsten/ray_results/IntersectionExample/PPO_MultiAgentIntersectionEnv_sharedPolicy_TeamSpirit-v0_0_2019-03-28_16-31-07csj0871_ 50 --num-rollouts 100"
   ]
  },
  {
   "cell_type": "markdown",
   "metadata": {},
   "source": [
    "## D) Test auswerten\n",
    "\n",
    "Speicherort der in B) erzeugten log-Dateien:"
   ]
  },
  {
   "cell_type": "code",
   "execution_count": null,
   "metadata": {},
   "outputs": [],
   "source": [
    "# default:\n",
    "folder_logs = path_ray_results + folder_results + \"/results_run_140/\"\n",
    "\n",
    "# anderer Ort:\n",
    "#folder_logs = hier/und/dort/"
   ]
  },
  {
   "cell_type": "markdown",
   "metadata": {},
   "source": [
    "### D1) Laden und lesen der log-Dateien"
   ]
  },
  {
   "cell_type": "code",
   "execution_count": null,
   "metadata": {},
   "outputs": [],
   "source": [
    "import glob\n",
    "filenames_log = glob.glob( folder_logs + \"/log_*.csv\")\n",
    "\n",
    "csvList = []\n",
    "\n",
    "for file_ in filenames_log:\n",
    "    df = pd.read_csv(file_,index_col=None, header=0)\n",
    "    csvList.append(df)\n",
    "\n",
    "actions_1 = []\n",
    "actions_2 = []\n",
    "veh_speeds_1 = []\n",
    "veh_speeds_2 = []\n",
    "veh_poss_1 = []\n",
    "veh_poss_2 = []\n",
    "curr_rewards_1 = []\n",
    "curr_rewards_2 = []\n",
    "times = []\n",
    "\n",
    "for csv in csvList:\n",
    "    actions_1.append(csv[['action_acc_1']].values)\n",
    "    actions_2.append(csv[['action_acc_2']].values)\n",
    "    veh_speeds_1.append(csv[['veh_speed_1']].values)\n",
    "    veh_speeds_2.append(csv[['veh_speed_2']].values)\n",
    "    veh_poss_1.append(csv[['veh_pos_1']].values)\n",
    "    veh_poss_2.append(csv[['veh_pos_2']].values)\n",
    "    curr_rewards_1.append(csv[['curr_reward_1']].values)\n",
    "    curr_rewards_2.append(csv[['curr_reward_2']].values)\n",
    "    times.append(np.arange(csv[['action_acc_1']].values.size)/10)"
   ]
  },
  {
   "cell_type": "markdown",
   "metadata": {},
   "source": [
    "### D2) Vergleich der Action beider Fahrzeuge"
   ]
  },
  {
   "cell_type": "code",
   "execution_count": null,
   "metadata": {
    "scrolled": true
   },
   "outputs": [],
   "source": [
    "linewidth_para = 2\n",
    "\n",
    "N_RA = 10\n",
    "pltAlpha = 0.15\n",
    "\n",
    "# print action\n",
    "for time, action_1 in zip(times,actions_1):\n",
    "    plt.plot(time[:-1],\n",
    "             action_1[:-1],\n",
    "             c='b',\n",
    "             alpha=pltAlpha)\n",
    "for time, action_2 in zip(times,actions_2):\n",
    "    plt.plot(time[:-1],\n",
    "             action_2[:-1],\n",
    "             linewidth=linewidth_para,\n",
    "             c='r',\n",
    "             alpha=pltAlpha)\n",
    "\n",
    "# print action with rolling avg\n",
    "for time, action_1 in zip(times,actions_1):\n",
    "    action_1_RA = np.convolve(action_1[:,0],np.ones((N_RA,))/N_RA,mode='valid')\n",
    "    plt.plot(time[N_RA//2:-N_RA//2],\n",
    "             action_1_RA[:-1],\n",
    "             c='b')\n",
    "for time, action_2 in zip(times,actions_2):\n",
    "    action_2_RA = np.convolve(action_2[:,0],np.ones((N_RA,))/N_RA,mode='valid')\n",
    "    plt.plot(time[N_RA//2:-N_RA//2],\n",
    "             action_2_RA[:-1],\n",
    "             c='r')    \n",
    "    \n",
    "plt.xlabel('time [s]')\n",
    "plt.ylabel('action [m/s^2]')\n",
    "plt.grid()\n",
    "plt.ylim(-3.5,3.5)\n",
    "plt.xlim(0,15)\n",
    "plt.title('Action')"
   ]
  },
  {
   "cell_type": "markdown",
   "metadata": {},
   "source": [
    "### D3) Vergleich der Geschwindigkeit beider Fahrzeuge"
   ]
  },
  {
   "cell_type": "code",
   "execution_count": null,
   "metadata": {},
   "outputs": [],
   "source": [
    "for time, veh_speed_1 in zip(times,veh_speeds_1):\n",
    "    plt.plot(time[:-1],\n",
    "             veh_speed_1[:-1],\n",
    "             c='b')\n",
    "for time, veh_speed_2 in zip(times,veh_speeds_2):\n",
    "    plt.plot(time[:-1],\n",
    "             veh_speed_2[:-1],\n",
    "             c='r')\n",
    "plt.xlabel('time [s]')\n",
    "plt.ylabel('speed [m/s]')\n",
    "plt.grid()\n",
    "plt.title('Vergleich der Geschwindigkeit beider Fahrzeuge')\n",
    "plt.ylim(-5,40)\n",
    "plt.xlim(0,15)"
   ]
  },
  {
   "cell_type": "markdown",
   "metadata": {},
   "source": [
    "### D4) Position beider Fahrzeuge"
   ]
  },
  {
   "cell_type": "code",
   "execution_count": null,
   "metadata": {},
   "outputs": [],
   "source": [
    "for time, veh_pos_1 in zip(times,veh_poss_1):\n",
    "    plt.plot(time[:-1],\n",
    "             veh_pos_1[:-1],\n",
    "             c='b')\n",
    "for time, veh_pos_2 in zip(times,veh_poss_2):\n",
    "    plt.plot(time[:-1],\n",
    "             veh_pos_2[:-1],\n",
    "             c='r')\n",
    "#plt.ylim(0,130)\n",
    "plt.xlabel('time [s]')\n",
    "plt.ylabel('pos [m]')\n",
    "plt.grid()\n",
    "plt.title('Vergleich der Position beider Fahrzeuge')\n",
    "plt.ylim(0,220)\n",
    "plt.xlim(0,15)"
   ]
  },
  {
   "cell_type": "markdown",
   "metadata": {},
   "source": [
    "### D5) Reward"
   ]
  },
  {
   "cell_type": "code",
   "execution_count": null,
   "metadata": {},
   "outputs": [],
   "source": [
    "for time, curr_reward in zip(times,curr_rewards_1):\n",
    "    plt.plot(time[:-1],\n",
    "             curr_reward[:-1],\n",
    "             c='b')\n",
    "for time, curr_reward in zip(times,curr_rewards_2):\n",
    "    plt.plot(time[:-1],\n",
    "             curr_reward[:-1],\n",
    "             c='r')\n",
    "plt.xlabel('time [s]')\n",
    "plt.ylabel('curr_reward')\n",
    "plt.ylim(-1,6)\n",
    "plt.xlim(0,15)\n",
    "plt.grid()\n",
    "plt.title('Reward')"
   ]
  },
  {
   "cell_type": "markdown",
   "metadata": {},
   "source": [
    "### D6) Kooperation und Konkurrenz"
   ]
  },
  {
   "cell_type": "code",
   "execution_count": null,
   "metadata": {},
   "outputs": [],
   "source": [
    "n_episodes = 0\n",
    "n_nr2first = 0\n",
    "\n",
    "for veh_pos_1, veh_pos_2 in zip(veh_poss_1,veh_poss_2):\n",
    "    n_episodes += 1\n",
    "    if veh_pos_2[-2] > veh_pos_1[-2]:\n",
    "        n_nr2first += 1\n",
    "print(\"k1 all:\")\n",
    "print(n_nr2first/n_episodes)"
   ]
  },
  {
   "cell_type": "code",
   "execution_count": null,
   "metadata": {},
   "outputs": [],
   "source": [
    "n_episodes = 0\n",
    "n_nr2first = 0\n",
    "n_notFarEnough = 0\n",
    "n_successfull = 0\n",
    "\n",
    "for veh_pos_1, veh_pos_2 in zip(veh_poss_1,veh_poss_2):\n",
    "    n_episodes += 1\n",
    "    if veh_pos_2[-2] > 46.2+13 or veh_pos_1[-2] > 46.2+13:\n",
    "        n_successfull += 1\n",
    "        if veh_pos_2[-2] > veh_pos_1[-2]:\n",
    "            n_nr2first += 1\n",
    "    else:\n",
    "        n_notFarEnough += 1\n",
    "    \n",
    "print(\"k1 ein Fzg muss KP verlassen haben:\")\n",
    "print(n_nr2first/n_successfull)\n",
    "\n",
    "print(\"Number notFarEnough:\")\n",
    "print(n_notFarEnough)"
   ]
  },
  {
   "cell_type": "code",
   "execution_count": null,
   "metadata": {},
   "outputs": [],
   "source": [
    "SMALL_SIZE = 15\n",
    "MEDIUM_SIZE = 20\n",
    "BIGGER_SIZE = 25\n",
    "\n",
    "plt.rc('font', size=SMALL_SIZE)          # controls default text sizes\n",
    "plt.rc('axes', titlesize=BIGGER_SIZE)     # fontsize of the axes title\n",
    "plt.rc('axes', labelsize=SMALL_SIZE)    # fontsize of the x and y labels\n",
    "plt.rc('xtick', labelsize=SMALL_SIZE)    # fontsize of the tick labels\n",
    "plt.rc('ytick', labelsize=SMALL_SIZE)    # fontsize of the tick labels\n",
    "plt.rc('legend', fontsize=SMALL_SIZE)    # legend fontsize\n",
    "plt.rc('figure', titlesize=BIGGER_SIZE)  # fontsize of the figure title\n",
    "\n",
    "N_RA = 10\n",
    "pltAlpha = 0.25\n",
    "linewidth_para = 4.0\n",
    "linewidth_para_alpha = 2.0\n",
    "\n",
    "action_1 = actions_1[0]\n",
    "action_2 = actions_2[0]\n",
    "time = times[0]\n",
    "\n",
    "action_1_RA = np.convolve(action_1[:,0],np.ones((N_RA,))/N_RA,mode='valid')\n",
    "action_2_RA = np.convolve(action_2[:,0],np.ones((N_RA,))/N_RA,mode='valid')\n",
    "\n",
    "len(action_1)\n",
    "\n",
    "plt.figure(figsize=(1.910*10/2*1.2,0.992*10/2*0.8),dpi=100)\n",
    "for i in range(len(action_1)-2): \n",
    "    plt.plot(time[:i],\n",
    "            action_1[:i],\n",
    "            linewidth=linewidth_para_alpha,\n",
    "            alpha=pltAlpha,\n",
    "            c='b')\n",
    "    plt.plot(time[:i],\n",
    "            action_2[:i],\n",
    "            linewidth=linewidth_para_alpha,\n",
    "            alpha=pltAlpha,\n",
    "            c='r')\n",
    "    if i > N_RA//2:\n",
    "        if i < len(action_1)-3-N_RA//2:   \n",
    "            plt.plot(time[N_RA//2:i],\n",
    "                     action_1_RA[:i-N_RA//2],\n",
    "                     linewidth=linewidth_para,\n",
    "                     c='b')\n",
    "            plt.plot(time[N_RA//2:i],\n",
    "                     action_2_RA[:i-N_RA//2],\n",
    "                     linewidth=linewidth_para,\n",
    "                     c='r')\n",
    "        else:\n",
    "            plt.plot(time[N_RA//2:-N_RA//2],\n",
    "                     action_1_RA[:-1],\n",
    "                     linewidth=linewidth_para,\n",
    "                     c='b')\n",
    "            plt.plot(time[N_RA//2:-N_RA//2],\n",
    "                     action_2_RA[:-1],\n",
    "                     linewidth=linewidth_para,\n",
    "                     c='r')\n",
    "    plt.grid()\n",
    "    plt.ylim(-0.5,3.5)\n",
    "    #plt.xlim((-80+i)/10,(20+i)/10)\n",
    "    plt.xlim(-1,len(action_1)/10+1)\n",
    "    plt.xlabel('time [s]')\n",
    "    plt.ylabel('action [m/s^2]')\n",
    "    plt.title('Action')\n",
    "    plt.tight_layout()\n",
    "    plt.savefig(\"action_\"+str(i+1)+\".png\",dpi=100)\n",
    "    plt.clf()"
   ]
  }
 ],
 "metadata": {
  "kernelspec": {
   "display_name": "Python (flow_2)",
   "language": "python",
   "name": "flow_2"
  },
  "language_info": {
   "codemirror_mode": {
    "name": "ipython",
    "version": 3
   },
   "file_extension": ".py",
   "mimetype": "text/x-python",
   "name": "python",
   "nbconvert_exporter": "python",
   "pygments_lexer": "ipython3",
   "version": "3.5.2"
  }
 },
 "nbformat": 4,
 "nbformat_minor": 2
}
