{
 "cells": [
  {
   "cell_type": "markdown",
   "metadata": {},
   "source": [
    "# Auswertung I3W\n",
    "\n",
    "Die Ergebnisse des Trainings wurden hier abgelegt:"
   ]
  },
  {
   "cell_type": "code",
   "execution_count": 79,
   "metadata": {},
   "outputs": [],
   "source": [
    "path_ray_results = \"/home/thorsten/ray_results/IntersectionExample/\"\n",
    "folder_results = \"Reproduzierbarkeitstest_2/PPO_MultiAgentIntersectionEnv-v0_0_2019-03-12_20-26-29hvez1r1v_forMov\""
   ]
  },
  {
   "cell_type": "markdown",
   "metadata": {},
   "source": [
    "## A) Ergebnisse der Baselines"
   ]
  },
  {
   "cell_type": "code",
   "execution_count": 80,
   "metadata": {},
   "outputs": [],
   "source": [
    "# mean reward\n",
    "mr_b1 = 0\n",
    "mr_b2 = 0\n",
    "mr_b3 = 0\n",
    "\n",
    "# metrik k1\n",
    "\n",
    "# metrik k2\n",
    "\n",
    "# metrik u"
   ]
  },
  {
   "cell_type": "markdown",
   "metadata": {},
   "source": [
    "## B) Auswertung des Trainings\n",
    "Auswertung der csv, die während des Trainings erstellt worden ist."
   ]
  },
  {
   "cell_type": "code",
   "execution_count": 81,
   "metadata": {},
   "outputs": [
    {
     "data": {
      "text/plain": [
       "['timesteps_since_restore',\n",
       " 'experiment_id',\n",
       " 'num_metric_batches_dropped',\n",
       " 'time_since_restore',\n",
       " 'iterations_since_restore',\n",
       " 'episode_reward_min',\n",
       " 'timesteps_this_iter',\n",
       " 'episodes_this_iter',\n",
       " 'node_ip',\n",
       " 'info',\n",
       " 'training_iteration',\n",
       " 'timesteps_total',\n",
       " 'timestamp',\n",
       " 'date',\n",
       " 'done',\n",
       " 'episodes_total',\n",
       " 'pid',\n",
       " 'episode_reward_mean',\n",
       " 'time_this_iter_s',\n",
       " 'hostname',\n",
       " 'time_total_s',\n",
       " 'policy_reward_mean',\n",
       " 'episode_len_mean',\n",
       " 'episode_reward_max',\n",
       " 'config',\n",
       " 'custom_metrics']"
      ]
     },
     "execution_count": 81,
     "metadata": {},
     "output_type": "execute_result"
    }
   ],
   "source": [
    "filename_trainingprogress = path_ray_results \\\n",
    "                            + folder_results \\\n",
    "                            + \"/progress.csv\"\n",
    "\n",
    "episodes_per_iteration = 20\n",
    "\n",
    "import numpy as np\n",
    "import pandas as pd\n",
    "\n",
    "%matplotlib inline\n",
    "import matplotlib\n",
    "import matplotlib.pyplot as plt\n",
    "import json\n",
    "\n",
    "data = pd.read_csv(filename_trainingprogress,sep=',',header=0)\n",
    "list(data)"
   ]
  },
  {
   "cell_type": "code",
   "execution_count": 82,
   "metadata": {},
   "outputs": [
    {
     "data": {
      "text/plain": [
       "<Figure size 573x396.8 with 0 Axes>"
      ]
     },
     "metadata": {},
     "output_type": "display_data"
    }
   ],
   "source": [
    "episode_reward_min = data[['episode_reward_min']].values\n",
    "episode_reward_mean = data[['episode_reward_mean']].values\n",
    "episode_reward_max = data[['episode_reward_max']].values\n",
    "\n",
    "episodes_total = data[['episodes_total']].values/episodes_per_iteration\n",
    "training_iteration = data[['training_iteration']].values\n",
    "\n",
    "SMALL_SIZE = 15\n",
    "MEDIUM_SIZE = 20\n",
    "BIGGER_SIZE = 25\n",
    "\n",
    "plt.rc('font', size=SMALL_SIZE)          # controls default text sizes\n",
    "plt.rc('axes', titlesize=BIGGER_SIZE)     # fontsize of the axes title\n",
    "plt.rc('axes', labelsize=SMALL_SIZE)    # fontsize of the x and y labels\n",
    "plt.rc('xtick', labelsize=SMALL_SIZE)    # fontsize of the tick labels\n",
    "plt.rc('ytick', labelsize=SMALL_SIZE)    # fontsize of the tick labels\n",
    "plt.rc('legend', fontsize=SMALL_SIZE)    # legend fontsize\n",
    "plt.rc('figure', titlesize=BIGGER_SIZE)  # fontsize of the figure title\n",
    "\n",
    "plt.figure(figsize=(1.910*10/2*1.2/2,0.992*10/2*0.8),dpi=100)\n",
    "linewidth_para = 4.0\n",
    "linewidth_para_2 = 2.0\n",
    "for i in range(len(training_iteration)): \n",
    "    plt.plot(training_iteration[:i],\n",
    "            episode_reward_mean[:i],\n",
    "            linewidth=linewidth_para,\n",
    "            c='g',\n",
    "            label='mean reward')\n",
    "    plt.plot(training_iteration[:i],\n",
    "            episode_reward_min[:i],\n",
    "            linewidth=linewidth_para_2, \n",
    "            c='grey')\n",
    "    plt.plot(training_iteration[:i],\n",
    "            episode_reward_max[:i],\n",
    "            c='grey',\n",
    "            linewidth=linewidth_para_2,\n",
    "            label='min/max reward')\n",
    "    plt.fill_between(np.squeeze(training_iteration)[:i],\n",
    "                     np.squeeze(episode_reward_min)[:i],\n",
    "                     np.squeeze(episode_reward_max)[:i],\n",
    "                     color='lightgrey')\n",
    "    plt.grid()\n",
    "    plt.ylim(-200,400)\n",
    "    plt.xlim(-10,len(training_iteration)+10)\n",
    "    plt.xlabel('iteration')\n",
    "    plt.ylabel('reward')\n",
    "    plt.title('Training')\n",
    "    plt.tight_layout()\n",
    "    plt.legend(loc='lower right')\n",
    "    plt.savefig(\"screenshots_training/training_\"+str(i)+\".png\",dpi=100)\n",
    "    plt.clf()"
   ]
  },
  {
   "cell_type": "code",
   "execution_count": 83,
   "metadata": {},
   "outputs": [
    {
     "data": {
      "text/plain": [
       "<Figure size 573x396.8 with 0 Axes>"
      ]
     },
     "metadata": {},
     "output_type": "display_data"
    }
   ],
   "source": [
    "policy_reward_mean = data[['policy_reward_mean']].values\n",
    "\n",
    "rl_0_prm = []\n",
    "rl_1_prm = []\n",
    "\n",
    "prm_list = policy_reward_mean.tolist()\n",
    "for prm in prm_list:\n",
    "    prm_str = prm[0]\n",
    "    prm_str = prm_str.replace(\"'\",'\"')\n",
    "    prm_dict = json.loads(prm_str)\n",
    "    prm_rl_0 = prm_dict[\"rl_0\"]\n",
    "    prm_rl_1 = prm_dict[\"rl_1\"]\n",
    "    rl_0_prm.append(prm_rl_0)\n",
    "    rl_1_prm.append(prm_rl_1)\n",
    "\n",
    "plt.figure(figsize=(1.910*10/2*1.2/2,0.992*10/2*0.8),dpi=100)\n",
    "for i in range(len(training_iteration)): \n",
    "    plt.plot(training_iteration[:i],\n",
    "            rl_0_prm[:i],\n",
    "            linewidth=linewidth_para,\n",
    "            c='b',\n",
    "            label='mean reward rl_0')\n",
    "    plt.plot(training_iteration[:i],\n",
    "            rl_1_prm[:i],\n",
    "            linewidth=linewidth_para,\n",
    "            label='mean reward rl_1',\n",
    "            c='r')\n",
    "    plt.grid()\n",
    "    plt.ylim(-20,220)\n",
    "    plt.xlim(-10,len(training_iteration)+10)\n",
    "    plt.xlabel('iteration')\n",
    "    plt.ylabel('reward')\n",
    "    plt.title('Training')\n",
    "    plt.tight_layout()\n",
    "    plt.legend(loc='lower right')\n",
    "    plt.savefig(\"screenshots_training/training_seperate_\"+str(i)+\".png\",dpi=100)\n",
    "    plt.clf()"
   ]
  },
  {
   "cell_type": "markdown",
   "metadata": {},
   "source": [
    "## C) Test durchführen"
   ]
  },
  {
   "cell_type": "code",
   "execution_count": 99,
   "metadata": {},
   "outputs": [
    {
     "name": "stdout",
     "output_type": "stream",
     "text": [
      "Process STDOUT and STDERR is being redirected to /tmp/ray/session_2019-03-25_17-56-46_28066/logs.\n",
      "Waiting for redis server at 127.0.0.1:28726 to respond...\n",
      "Waiting for redis server at 127.0.0.1:52593 to respond...\n",
      "Starting the Plasma object store with 6.554658406 GB memory using /dev/shm.\n",
      "\n",
      "======================================================================\n",
      "View the web UI at http://localhost:8889/notebooks/ray_ui.ipynb?token=b7d6c462bfcf52a3c4d7d6a38d2d237063d4dd25ac2bd498\n",
      "======================================================================\n",
      "\n",
      "False\n",
      "Created LogSyncer for /home/thorsten/ray_results/PPO_MultiAgentIntersectionEnv-v0_2019-03-25_17-56-47rmnkxiff -> None\n",
      "2019-03-25 17:56:47,504\tINFO ppo.py:130 -- In multi-agent mode, policies will be optimized sequentially by the multi-GPU optimizer. Consider setting simple_optimizer=True if this doesn't work for you.\n",
      "2019-03-25 17:56:47,507\tWARNING ppo.py:137 -- By default, observations will be normalized with MeanStdFilter\n",
      "Loading configuration... done.\n",
      "Success.\n",
      " Starting SUMO on port 59927\n",
      "Loading configuration... done.\n",
      "5.061894590929197\n",
      "2.516892249374049\n",
      "2019-03-25 17:56:55,562\tINFO policy_evaluator.py:262 -- Creating policy evaluation worker 0 on CPU (please ignore any CUDA init errors)\n",
      "/home/thorsten/.local/lib/python3.5/site-packages/tensorflow/python/ops/gradients_impl.py:108: UserWarning: Converting sparse IndexedSlices to a dense Tensor of unknown shape. This may consume a large amount of memory.\n",
      "  \"Converting sparse IndexedSlices to a dense Tensor of unknown shape. \"\n",
      "12.346434074474772\n",
      "24.542911631499496\n",
      "2019-03-25 17:56:58,034\tINFO multi_gpu_optimizer.py:74 -- LocalMultiGPUOptimizer devices ['/cpu:0']\n",
      "Policymap Function:\n",
      "<function executeTraining.<locals>.policy_mapping_fn at 0x7fcd18de40d0>\n",
      "21.495146308450185\n",
      "11.397920752125769\n",
      "crash collision\n",
      "Round 0, Return: {'rl_0': [-46.999600593420965], 'rl_1': [-46.64445723957719]} for agent rl_0\n",
      "Round 0, Return: {'rl_0': [-46.999600593420965], 'rl_1': [-46.64445723957719]} for agent rl_1\n",
      "Average, std return: -46.999600593420965, 0.0 for agent rl_0\n",
      "Average, std return: -46.64445723957719, 0.0 for agent rl_1\n",
      "Average, std speed: 4.028634172992494, 0.0\n",
      "Average, std outflow: 272.7272727272727, 0.0\n",
      "Closing connection to TraCI and stopping simulation.\n",
      "Note, this may print an error message when it closes.\n",
      "Closing connection to TraCI and stopping simulation.\n",
      "Note, this may print an error message when it closes.\n",
      "Skip automatic termination. Connection is probably already closed.\n"
     ]
    }
   ],
   "source": [
    "! python /home/thorsten/flow_2/flow/flow/visualize/visualizer_rllib_log_MultiI3W.py /home/thorsten/ray_results/IntersectionExample/Reproduzierbarkeitstest_2/PPO_MultiAgentIntersectionEnv-v0_0_2019-03-12_20-26-29hvez1r1v_forMov 25 --num-rollouts 1"
   ]
  },
  {
   "cell_type": "markdown",
   "metadata": {},
   "source": [
    "## D) Test auswerten"
   ]
  },
  {
   "cell_type": "code",
   "execution_count": 116,
   "metadata": {},
   "outputs": [],
   "source": [
    "iteration = 100\n",
    "folder_logs = path_ray_results + folder_results + \"/results_run_\"+str(iteration)+\"/\""
   ]
  },
  {
   "cell_type": "code",
   "execution_count": 111,
   "metadata": {},
   "outputs": [],
   "source": [
    "import glob\n",
    "filenames_log = glob.glob( folder_logs + \"/log_*.csv\")\n",
    "\n",
    "csvList = []\n",
    "\n",
    "for file_ in filenames_log:\n",
    "    df = pd.read_csv(file_,index_col=None, header=0)\n",
    "    csvList.append(df)\n",
    "\n",
    "actions_1 = []\n",
    "actions_2 = []\n",
    "veh_speeds_1 = []\n",
    "veh_speeds_2 = []\n",
    "veh_poss_1 = []\n",
    "veh_poss_2 = []\n",
    "curr_rewards_1 = []\n",
    "curr_rewards_2 = []\n",
    "times = []\n",
    "\n",
    "for csv in csvList:\n",
    "    actions_1.append(csv[['action_acc_1']].values)\n",
    "    actions_2.append(csv[['action_acc_2']].values)\n",
    "    veh_speeds_1.append(csv[['veh_speed_1']].values)\n",
    "    veh_speeds_2.append(csv[['veh_speed_2']].values)\n",
    "    veh_poss_1.append(csv[['veh_pos_1']].values)\n",
    "    veh_poss_2.append(csv[['veh_pos_2']].values)\n",
    "    curr_rewards_1.append(csv[['curr_reward_1']].values)\n",
    "    curr_rewards_2.append(csv[['curr_reward_2']].values)\n",
    "    times.append(np.arange(csv[['action_acc_1']].values.size)/10)"
   ]
  },
  {
   "cell_type": "code",
   "execution_count": 112,
   "metadata": {},
   "outputs": [
    {
     "data": {
      "text/plain": [
       "<Figure size 1146x396.8 with 0 Axes>"
      ]
     },
     "metadata": {},
     "output_type": "display_data"
    }
   ],
   "source": [
    "SMALL_SIZE = 15\n",
    "MEDIUM_SIZE = 20\n",
    "BIGGER_SIZE = 25\n",
    "\n",
    "plt.rc('font', size=SMALL_SIZE)          # controls default text sizes\n",
    "plt.rc('axes', titlesize=BIGGER_SIZE)     # fontsize of the axes title\n",
    "plt.rc('axes', labelsize=SMALL_SIZE)    # fontsize of the x and y labels\n",
    "plt.rc('xtick', labelsize=SMALL_SIZE)    # fontsize of the tick labels\n",
    "plt.rc('ytick', labelsize=SMALL_SIZE)    # fontsize of the tick labels\n",
    "plt.rc('legend', fontsize=SMALL_SIZE)    # legend fontsize\n",
    "plt.rc('figure', titlesize=BIGGER_SIZE)  # fontsize of the figure title\n",
    "\n",
    "N_RA = 10\n",
    "pltAlpha = 0.25\n",
    "linewidth_para = 4.0\n",
    "linewidth_para_alpha = 2.0\n",
    "\n",
    "action_1 = actions_1[0]\n",
    "action_2 = actions_2[0]\n",
    "time = times[0]\n",
    "\n",
    "action_1_RA = np.convolve(action_1[:,0],np.ones((N_RA,))/N_RA,mode='valid')\n",
    "action_2_RA = np.convolve(action_2[:,0],np.ones((N_RA,))/N_RA,mode='valid')\n",
    "\n",
    "len(action_1)\n",
    "\n",
    "plt.figure(figsize=(1.910*10/2*1.2,0.992*10/2*0.8),dpi=100)\n",
    "for i in range(len(action_1)-2): \n",
    "    plt.plot(time[:i],\n",
    "            action_1[:i],\n",
    "            linewidth=linewidth_para_alpha,\n",
    "            alpha=pltAlpha,\n",
    "            c='b')\n",
    "    plt.plot(time[:i],\n",
    "            action_2[:i],\n",
    "            linewidth=linewidth_para_alpha,\n",
    "            alpha=pltAlpha,\n",
    "            c='r')\n",
    "    if i > N_RA//2:\n",
    "        if i < len(action_1)-3-N_RA//2:   \n",
    "            plt.plot(time[N_RA//2:i],\n",
    "                     action_1_RA[:i-N_RA//2],\n",
    "                     linewidth=linewidth_para,\n",
    "                     c='b')\n",
    "            plt.plot(time[N_RA//2:i],\n",
    "                     action_2_RA[:i-N_RA//2],\n",
    "                     linewidth=linewidth_para,\n",
    "                     c='r')\n",
    "        else:\n",
    "            plt.plot(time[N_RA//2:-N_RA//2],\n",
    "                     action_1_RA[:-1],\n",
    "                     linewidth=linewidth_para,\n",
    "                     c='b')\n",
    "            plt.plot(time[N_RA//2:-N_RA//2],\n",
    "                     action_2_RA[:-1],\n",
    "                     linewidth=linewidth_para,\n",
    "                     c='r')\n",
    "    plt.grid()\n",
    "    plt.ylim(-3.5,3.5)\n",
    "    #plt.xlim((-80+i)/10,(20+i)/10)\n",
    "    plt.xlim(-1,len(action_1)/10+1)\n",
    "    plt.xlabel('time [s]')\n",
    "    plt.ylabel('action [m/s^2]')\n",
    "    plt.title('Action')\n",
    "    plt.tight_layout()\n",
    "    plt.savefig(\"screenshots/action_\"+str(i+1)+\".png\",dpi=100)\n",
    "    plt.clf()"
   ]
  },
  {
   "cell_type": "markdown",
   "metadata": {},
   "source": [
    "## E) Bilder zusammensetzen"
   ]
  },
  {
   "cell_type": "code",
   "execution_count": 117,
   "metadata": {},
   "outputs": [
    {
     "name": "stdout",
     "output_type": "stream",
     "text": [
      "/home/thorsten/flow_2/flow/Diplomarbeit/screenshots/sumo_1.png\n",
      "/home/thorsten/flow_2/flow/Diplomarbeit/screenshots/sumo_2.png\n",
      "/home/thorsten/flow_2/flow/Diplomarbeit/screenshots/sumo_3.png\n",
      "/home/thorsten/flow_2/flow/Diplomarbeit/screenshots/sumo_4.png\n",
      "/home/thorsten/flow_2/flow/Diplomarbeit/screenshots/sumo_5.png\n",
      "/home/thorsten/flow_2/flow/Diplomarbeit/screenshots/sumo_6.png\n",
      "/home/thorsten/flow_2/flow/Diplomarbeit/screenshots/sumo_7.png\n",
      "/home/thorsten/flow_2/flow/Diplomarbeit/screenshots/sumo_8.png\n",
      "/home/thorsten/flow_2/flow/Diplomarbeit/screenshots/sumo_9.png\n",
      "/home/thorsten/flow_2/flow/Diplomarbeit/screenshots/sumo_10.png\n",
      "/home/thorsten/flow_2/flow/Diplomarbeit/screenshots/sumo_11.png\n",
      "/home/thorsten/flow_2/flow/Diplomarbeit/screenshots/sumo_12.png\n",
      "/home/thorsten/flow_2/flow/Diplomarbeit/screenshots/sumo_13.png\n",
      "/home/thorsten/flow_2/flow/Diplomarbeit/screenshots/sumo_14.png\n",
      "/home/thorsten/flow_2/flow/Diplomarbeit/screenshots/sumo_15.png\n",
      "/home/thorsten/flow_2/flow/Diplomarbeit/screenshots/sumo_16.png\n",
      "/home/thorsten/flow_2/flow/Diplomarbeit/screenshots/sumo_17.png\n",
      "/home/thorsten/flow_2/flow/Diplomarbeit/screenshots/sumo_18.png\n",
      "/home/thorsten/flow_2/flow/Diplomarbeit/screenshots/sumo_19.png\n",
      "/home/thorsten/flow_2/flow/Diplomarbeit/screenshots/sumo_20.png\n",
      "/home/thorsten/flow_2/flow/Diplomarbeit/screenshots/sumo_21.png\n",
      "/home/thorsten/flow_2/flow/Diplomarbeit/screenshots/sumo_22.png\n",
      "/home/thorsten/flow_2/flow/Diplomarbeit/screenshots/sumo_23.png\n",
      "/home/thorsten/flow_2/flow/Diplomarbeit/screenshots/sumo_24.png\n",
      "/home/thorsten/flow_2/flow/Diplomarbeit/screenshots/sumo_25.png\n",
      "/home/thorsten/flow_2/flow/Diplomarbeit/screenshots/sumo_26.png\n",
      "/home/thorsten/flow_2/flow/Diplomarbeit/screenshots/sumo_27.png\n",
      "/home/thorsten/flow_2/flow/Diplomarbeit/screenshots/sumo_28.png\n",
      "/home/thorsten/flow_2/flow/Diplomarbeit/screenshots/sumo_29.png\n",
      "/home/thorsten/flow_2/flow/Diplomarbeit/screenshots/sumo_30.png\n",
      "/home/thorsten/flow_2/flow/Diplomarbeit/screenshots/sumo_31.png\n",
      "/home/thorsten/flow_2/flow/Diplomarbeit/screenshots/sumo_32.png\n",
      "/home/thorsten/flow_2/flow/Diplomarbeit/screenshots/sumo_33.png\n",
      "/home/thorsten/flow_2/flow/Diplomarbeit/screenshots/sumo_34.png\n",
      "/home/thorsten/flow_2/flow/Diplomarbeit/screenshots/sumo_35.png\n",
      "/home/thorsten/flow_2/flow/Diplomarbeit/screenshots/sumo_36.png\n",
      "/home/thorsten/flow_2/flow/Diplomarbeit/screenshots/sumo_37.png\n",
      "/home/thorsten/flow_2/flow/Diplomarbeit/screenshots/sumo_38.png\n",
      "/home/thorsten/flow_2/flow/Diplomarbeit/screenshots/sumo_39.png\n",
      "/home/thorsten/flow_2/flow/Diplomarbeit/screenshots/sumo_40.png\n",
      "/home/thorsten/flow_2/flow/Diplomarbeit/screenshots/sumo_41.png\n",
      "/home/thorsten/flow_2/flow/Diplomarbeit/screenshots/sumo_42.png\n",
      "/home/thorsten/flow_2/flow/Diplomarbeit/screenshots/sumo_43.png\n",
      "/home/thorsten/flow_2/flow/Diplomarbeit/screenshots/sumo_44.png\n",
      "/home/thorsten/flow_2/flow/Diplomarbeit/screenshots/sumo_45.png\n",
      "/home/thorsten/flow_2/flow/Diplomarbeit/screenshots/sumo_46.png\n",
      "/home/thorsten/flow_2/flow/Diplomarbeit/screenshots/sumo_47.png\n",
      "/home/thorsten/flow_2/flow/Diplomarbeit/screenshots/sumo_48.png\n",
      "/home/thorsten/flow_2/flow/Diplomarbeit/screenshots/sumo_49.png\n",
      "/home/thorsten/flow_2/flow/Diplomarbeit/screenshots/sumo_50.png\n",
      "/home/thorsten/flow_2/flow/Diplomarbeit/screenshots/sumo_51.png\n",
      "/home/thorsten/flow_2/flow/Diplomarbeit/screenshots/sumo_52.png\n",
      "/home/thorsten/flow_2/flow/Diplomarbeit/screenshots/sumo_53.png\n",
      "/home/thorsten/flow_2/flow/Diplomarbeit/screenshots/sumo_54.png\n",
      "/home/thorsten/flow_2/flow/Diplomarbeit/screenshots/sumo_55.png\n",
      "/home/thorsten/flow_2/flow/Diplomarbeit/screenshots/sumo_56.png\n",
      "/home/thorsten/flow_2/flow/Diplomarbeit/screenshots/sumo_57.png\n",
      "/home/thorsten/flow_2/flow/Diplomarbeit/screenshots/sumo_58.png\n",
      "/home/thorsten/flow_2/flow/Diplomarbeit/screenshots/sumo_59.png\n",
      "/home/thorsten/flow_2/flow/Diplomarbeit/screenshots/sumo_60.png\n",
      "/home/thorsten/flow_2/flow/Diplomarbeit/screenshots/sumo_61.png\n",
      "/home/thorsten/flow_2/flow/Diplomarbeit/screenshots/sumo_62.png\n",
      "/home/thorsten/flow_2/flow/Diplomarbeit/screenshots/sumo_63.png\n",
      "/home/thorsten/flow_2/flow/Diplomarbeit/screenshots/sumo_64.png\n",
      "/home/thorsten/flow_2/flow/Diplomarbeit/screenshots/sumo_65.png\n",
      "/home/thorsten/flow_2/flow/Diplomarbeit/screenshots/sumo_66.png\n",
      "/home/thorsten/flow_2/flow/Diplomarbeit/screenshots/sumo_67.png\n",
      "/home/thorsten/flow_2/flow/Diplomarbeit/screenshots/sumo_68.png\n",
      "/home/thorsten/flow_2/flow/Diplomarbeit/screenshots/sumo_69.png\n",
      "/home/thorsten/flow_2/flow/Diplomarbeit/screenshots/sumo_70.png\n",
      "/home/thorsten/flow_2/flow/Diplomarbeit/screenshots/sumo_71.png\n",
      "/home/thorsten/flow_2/flow/Diplomarbeit/screenshots/sumo_72.png\n",
      "/home/thorsten/flow_2/flow/Diplomarbeit/screenshots/sumo_73.png\n",
      "/home/thorsten/flow_2/flow/Diplomarbeit/screenshots/sumo_74.png\n",
      "/home/thorsten/flow_2/flow/Diplomarbeit/screenshots/sumo_75.png\n",
      "/home/thorsten/flow_2/flow/Diplomarbeit/screenshots/sumo_76.png\n",
      "/home/thorsten/flow_2/flow/Diplomarbeit/screenshots/sumo_77.png\n",
      "/home/thorsten/flow_2/flow/Diplomarbeit/screenshots/sumo_78.png\n",
      "/home/thorsten/flow_2/flow/Diplomarbeit/screenshots/sumo_79.png\n",
      "/home/thorsten/flow_2/flow/Diplomarbeit/screenshots/sumo_80.png\n",
      "/home/thorsten/flow_2/flow/Diplomarbeit/screenshots/sumo_81.png\n",
      "/home/thorsten/flow_2/flow/Diplomarbeit/screenshots/sumo_82.png\n",
      "/home/thorsten/flow_2/flow/Diplomarbeit/screenshots/sumo_83.png\n",
      "/home/thorsten/flow_2/flow/Diplomarbeit/screenshots/sumo_84.png\n",
      "/home/thorsten/flow_2/flow/Diplomarbeit/screenshots/sumo_85.png\n",
      "/home/thorsten/flow_2/flow/Diplomarbeit/screenshots/sumo_86.png\n",
      "/home/thorsten/flow_2/flow/Diplomarbeit/screenshots/sumo_87.png\n",
      "/home/thorsten/flow_2/flow/Diplomarbeit/screenshots/sumo_88.png\n",
      "/home/thorsten/flow_2/flow/Diplomarbeit/screenshots/sumo_89.png\n",
      "/home/thorsten/flow_2/flow/Diplomarbeit/screenshots/sumo_90.png\n",
      "/home/thorsten/flow_2/flow/Diplomarbeit/screenshots/sumo_91.png\n",
      "/home/thorsten/flow_2/flow/Diplomarbeit/screenshots/sumo_92.png\n",
      "/home/thorsten/flow_2/flow/Diplomarbeit/screenshots/sumo_93.png\n",
      "/home/thorsten/flow_2/flow/Diplomarbeit/screenshots/sumo_94.png\n",
      "/home/thorsten/flow_2/flow/Diplomarbeit/screenshots/sumo_95.png\n",
      "/home/thorsten/flow_2/flow/Diplomarbeit/screenshots/sumo_96.png\n",
      "/home/thorsten/flow_2/flow/Diplomarbeit/screenshots/sumo_97.png\n",
      "/home/thorsten/flow_2/flow/Diplomarbeit/screenshots/sumo_98.png\n",
      "/home/thorsten/flow_2/flow/Diplomarbeit/screenshots/sumo_99.png\n",
      "/home/thorsten/flow_2/flow/Diplomarbeit/screenshots/sumo_100.png\n",
      "/home/thorsten/flow_2/flow/Diplomarbeit/screenshots/sumo_101.png\n",
      "/home/thorsten/flow_2/flow/Diplomarbeit/screenshots/sumo_102.png\n",
      "/home/thorsten/flow_2/flow/Diplomarbeit/screenshots/sumo_103.png\n",
      "/home/thorsten/flow_2/flow/Diplomarbeit/screenshots/sumo_104.png\n",
      "/home/thorsten/flow_2/flow/Diplomarbeit/screenshots/sumo_105.png\n",
      "/home/thorsten/flow_2/flow/Diplomarbeit/screenshots/sumo_106.png\n",
      "/home/thorsten/flow_2/flow/Diplomarbeit/screenshots/sumo_107.png\n",
      "/home/thorsten/flow_2/flow/Diplomarbeit/screenshots/sumo_108.png\n",
      "/home/thorsten/flow_2/flow/Diplomarbeit/screenshots/sumo_109.png\n",
      "/home/thorsten/flow_2/flow/Diplomarbeit/screenshots/sumo_110.png\n"
     ]
    }
   ],
   "source": [
    "from PIL import Image, ImageDraw, ImageFont\n",
    "\n",
    "folder = \"/home/thorsten/flow_2/flow/Diplomarbeit/screenshots\"\n",
    "folder_training = \"/home/thorsten/flow_2/flow/Diplomarbeit/screenshots_training\"\n",
    "\n",
    "filenames_screenshots = glob.glob(folder + \"/sumo_*.png\")\n",
    "filenames_plots_1 = glob.glob(folder+\"/action_*.png\")\n",
    "filename_training = folder_training+\"/training_\"+str(iteration)+\".png\"\n",
    "filename_training_2 = folder_training+\"/training_seperate_\"+str(iteration)+\".png\"\n",
    "\n",
    "from natsort import natsorted, ns\n",
    "filenames_screenshots = natsorted(filenames_screenshots, key=lambda y: y.lower())\n",
    "filenames_plots_1 = natsorted(filenames_plots_1, key=lambda y: y.lower())\n",
    "\n",
    "img_training = Image.open(filename_training)\n",
    "img_training_2 = Image.open(filename_training_2)\n",
    "\n",
    "i=1\n",
    "for screenshot in filenames_screenshots:\n",
    "    print(screenshot)\n",
    "    \n",
    "    img_info = Image.new('RGB',(500,250), color = (255,255,255))\n",
    "    fnt = ImageFont.truetype('/usr/share/fonts/opentype/linux-libertine/LinLibertine_RB.otf', 36)\n",
    "    d = ImageDraw.Draw(img_info)\n",
    "    d.text((10,10), \"Training Iteration: \"+str(iteration), font=fnt, fill=(0, 0, 0))\n",
    "    \n",
    "    img_sumo = Image.open(screenshot)\n",
    "    img_plot = Image.open(filenames_plots_1[i-1])\n",
    "    \n",
    "    img_sumo.paste(img_info,(150,75))\n",
    "    img_sumo.paste(img_plot,(600,50))\n",
    "    img_sumo.paste(img_training,(1100,546+25))\n",
    "    img_sumo.paste(img_training_2,(300,546+25))\n",
    "    \n",
    "    img_sumo.save(folder+\"/\"+str(i)+\".png\")\n",
    "    \n",
    "    i+=1"
   ]
  },
  {
   "cell_type": "markdown",
   "metadata": {},
   "source": [
    "## F) Video erzeugen"
   ]
  },
  {
   "cell_type": "code",
   "execution_count": 119,
   "metadata": {},
   "outputs": [
    {
     "name": "stdout",
     "output_type": "stream",
     "text": [
      "ffmpeg version 2.8.15-0ubuntu0.16.04.1 Copyright (c) 2000-2018 the FFmpeg developers\r\n",
      "  built with gcc 5.4.0 (Ubuntu 5.4.0-6ubuntu1~16.04.10) 20160609\r\n",
      "  configuration: --prefix=/usr --extra-version=0ubuntu0.16.04.1 --build-suffix=-ffmpeg --toolchain=hardened --libdir=/usr/lib/x86_64-linux-gnu --incdir=/usr/include/x86_64-linux-gnu --cc=cc --cxx=g++ --enable-gpl --enable-shared --disable-stripping --disable-decoder=libopenjpeg --disable-decoder=libschroedinger --enable-avresample --enable-avisynth --enable-gnutls --enable-ladspa --enable-libass --enable-libbluray --enable-libbs2b --enable-libcaca --enable-libcdio --enable-libflite --enable-libfontconfig --enable-libfreetype --enable-libfribidi --enable-libgme --enable-libgsm --enable-libmodplug --enable-libmp3lame --enable-libopenjpeg --enable-libopus --enable-libpulse --enable-librtmp --enable-libschroedinger --enable-libshine --enable-libsnappy --enable-libsoxr --enable-libspeex --enable-libssh --enable-libtheora --enable-libtwolame --enable-libvorbis --enable-libvpx --enable-libwavpack --enable-libwebp --enable-libx265 --enable-libxvid --enable-libzvbi --enable-openal --enable-opengl --enable-x11grab --enable-libdc1394 --enable-libiec61883 --enable-libzmq --enable-frei0r --enable-libx264 --enable-libopencv\r\n",
      "  libavutil      54. 31.100 / 54. 31.100\r\n",
      "  libavcodec     56. 60.100 / 56. 60.100\r\n",
      "  libavformat    56. 40.101 / 56. 40.101\r\n",
      "  libavdevice    56.  4.100 / 56.  4.100\r\n",
      "  libavfilter     5. 40.101 /  5. 40.101\r\n",
      "  libavresample   2.  1.  0 /  2.  1.  0\r\n",
      "  libswscale      3.  1.101 /  3.  1.101\r\n",
      "  libswresample   1.  2.101 /  1.  2.101\r\n",
      "  libpostproc    53.  3.100 / 53.  3.100\r\n",
      "\u001b[0;35m[image2 @ 0x1efa980] \u001b[0m\u001b[1;31mCould find no file with path '/home/thorsten/flow_2/flow/Diplomarbeit/screenshots/%d.png' and index in the range 0-4\r\n",
      "\u001b[0m\u001b[1;31m/home/thorsten/flow_2/flow/Diplomarbeit/screenshots/%d.png: No such file or directory\r\n",
      "\u001b[0m"
     ]
    }
   ],
   "source": [
    "! ffmpeg -r 20 -i /home/thorsten/flow_2/flow/Diplomarbeit/screenshots/%d.png -c:v qtrle -pix_fmt rgb24 flow_replay.mov"
   ]
  },
  {
   "cell_type": "markdown",
   "metadata": {},
   "source": [
    "## G) Videos zusammensetzen"
   ]
  },
  {
   "cell_type": "code",
   "execution_count": 120,
   "metadata": {},
   "outputs": [
    {
     "name": "stdout",
     "output_type": "stream",
     "text": [
      "ffmpeg version 2.8.15-0ubuntu0.16.04.1 Copyright (c) 2000-2018 the FFmpeg developers\n",
      "  built with gcc 5.4.0 (Ubuntu 5.4.0-6ubuntu1~16.04.10) 20160609\n",
      "  configuration: --prefix=/usr --extra-version=0ubuntu0.16.04.1 --build-suffix=-ffmpeg --toolchain=hardened --libdir=/usr/lib/x86_64-linux-gnu --incdir=/usr/include/x86_64-linux-gnu --cc=cc --cxx=g++ --enable-gpl --enable-shared --disable-stripping --disable-decoder=libopenjpeg --disable-decoder=libschroedinger --enable-avresample --enable-avisynth --enable-gnutls --enable-ladspa --enable-libass --enable-libbluray --enable-libbs2b --enable-libcaca --enable-libcdio --enable-libflite --enable-libfontconfig --enable-libfreetype --enable-libfribidi --enable-libgme --enable-libgsm --enable-libmodplug --enable-libmp3lame --enable-libopenjpeg --enable-libopus --enable-libpulse --enable-librtmp --enable-libschroedinger --enable-libshine --enable-libsnappy --enable-libsoxr --enable-libspeex --enable-libssh --enable-libtheora --enable-libtwolame --enable-libvorbis --enable-libvpx --enable-libwavpack --enable-libwebp --enable-libx265 --enable-libxvid --enable-libzvbi --enable-openal --enable-opengl --enable-x11grab --enable-libdc1394 --enable-libiec61883 --enable-libzmq --enable-frei0r --enable-libx264 --enable-libopencv\n",
      "  libavutil      54. 31.100 / 54. 31.100\n",
      "  libavcodec     56. 60.100 / 56. 60.100\n",
      "  libavformat    56. 40.101 / 56. 40.101\n",
      "  libavdevice    56.  4.100 / 56.  4.100\n",
      "  libavfilter     5. 40.101 /  5. 40.101\n",
      "  libavresample   2.  1.  0 /  2.  1.  0\n",
      "  libswscale      3.  1.101 /  3.  1.101\n",
      "  libswresample   1.  2.101 /  1.  2.101\n",
      "  libpostproc    53.  3.100 / 53.  3.100\n",
      "Input #0, concat, from 'filelist.txt':\n",
      "  Duration: N/A, start: 0.000000, bitrate: 5510 kb/s\n",
      "    Stream #0:0(eng): Video: qtrle (rle  / 0x20656C72), rgb24, 1910x992, 5510 kb/s, 20 fps, 20 tbr, 10240 tbn, 10240 tbc\n",
      "    Metadata:\n",
      "      handler_name    : DataHandler\n",
      "      encoder         : Lavc56.60.100 qtrle\n",
      "\u001b[1;35m[mov @ 0xbe2c80] \u001b[0m\u001b[0;33mCodec for stream 0 does not use global headers but container format requires global headers\n",
      "\u001b[0mOutput #0, mov, to 'output.mov':\n",
      "  Metadata:\n",
      "    encoder         : Lavf56.40.101\n",
      "    Stream #0:0(eng): Video: qtrle (rle  / 0x20656C72), rgb24, 1910x992, q=2-31, 5510 kb/s, 20 fps, 20 tbr, 10240 tbn, 10240 tbc\n",
      "    Metadata:\n",
      "      handler_name    : DataHandler\n",
      "      encoder         : Lavc56.60.100 qtrle\n",
      "Stream mapping:\n",
      "  Stream #0:0 -> #0:0 (copy)\n",
      "Press [q] to stop, [?] for help\n",
      "frame=  741 fps=0.0 q=-1.0 Lsize=   26835kB time=00:00:37.00 bitrate=5941.4kbits/s    \n",
      "video:26831kB audio:0kB subtitle:0kB other streams:0kB global headers:0kB muxing overhead: 0.015556%\n"
     ]
    }
   ],
   "source": [
    "! ffmpeg -f concat -i filelist.txt -c copy output.mov"
   ]
  },
  {
   "cell_type": "code",
   "execution_count": null,
   "metadata": {},
   "outputs": [],
   "source": []
  },
  {
   "cell_type": "code",
   "execution_count": null,
   "metadata": {},
   "outputs": [],
   "source": []
  }
 ],
 "metadata": {
  "kernelspec": {
   "display_name": "Python (flow_2)",
   "language": "python",
   "name": "flow_2"
  },
  "language_info": {
   "codemirror_mode": {
    "name": "ipython",
    "version": 3
   },
   "file_extension": ".py",
   "mimetype": "text/x-python",
   "name": "python",
   "nbconvert_exporter": "python",
   "pygments_lexer": "ipython3",
   "version": "3.5.2"
  }
 },
 "nbformat": 4,
 "nbformat_minor": 2
}
